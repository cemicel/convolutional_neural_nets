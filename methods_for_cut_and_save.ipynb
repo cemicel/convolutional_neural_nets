{
 "cells": [
  {
   "cell_type": "code",
   "execution_count": null,
   "metadata": {},
   "outputs": [],
   "source": [
    "# this method takes an image 520x170 pixesls\n",
    "# and than cuts that image into int(520/28) = 18 images of 28x168 pixels\n",
    "# returns list of smaller images. "
   ]
  },
  {
   "cell_type": "code",
   "execution_count": null,
   "metadata": {},
   "outputs": [],
   "source": [
    "def get_list(img):\n",
    "    list_im = []\n",
    "    left = 0\n",
    "    top = 0\n",
    "    width = 168\n",
    "    height = 28\n",
    "    for i in range(int(img.size[1] / 28)):\n",
    "        temp = img.crop((left, top, width, height))\n",
    "        list_im.append(temp)\n",
    "        top += 28\n",
    "        height += 28\n",
    "    return list_im"
   ]
  },
  {
   "cell_type": "code",
   "execution_count": null,
   "metadata": {},
   "outputs": [],
   "source": [
    "# this method take as formated _path as:\n",
    "# /'text_font_name'/cropped/{}'\n",
    "# list_of_images - list of cropped images \n",
    "# Further in the method this path is formated as: \"path.format('{}.png'.format(i))\"\n",
    "# which gives it look like /'text_font_name'/cropped/i.png', i - each next image"
   ]
  },
  {
   "cell_type": "code",
   "execution_count": null,
   "metadata": {},
   "outputs": [],
   "source": [
    "def save_cropped(formated_path, list_of_images,len_cropped):\n",
    "    c = 0\n",
    "    for i in range(len(list_of_images)):\n",
    "        for j in (list_of_images[i]):\n",
    "            j.save(formated_path.format('{}.png'.format(i)))\n",
    "            c += 1"
   ]
  },
  {
   "cell_type": "code",
   "execution_count": 1,
   "metadata": {},
   "outputs": [],
   "source": [
    "# create list of crooped images\n",
    "# save list of given images into given directory"
   ]
  },
  {
   "cell_type": "code",
   "execution_count": null,
   "metadata": {},
   "outputs": [],
   "source": [
    "one_mini_cropped = [get_list(Image.open(path_1.format(i))) for i in range(1, 11)]\n",
    "save_cropped(path_1_cropped,one_mini_cropped,len(one_mini_cropped))\n"
   ]
  }
 ],
 "metadata": {
  "kernelspec": {
   "display_name": "Python 2",
   "language": "python",
   "name": "python2"
  },
  "language_info": {
   "codemirror_mode": {
    "name": "ipython",
    "version": 2
   },
   "file_extension": ".py",
   "mimetype": "text/x-python",
   "name": "python",
   "nbconvert_exporter": "python",
   "pygments_lexer": "ipython2",
   "version": "2.7.13"
  }
 },
 "nbformat": 4,
 "nbformat_minor": 2
}
